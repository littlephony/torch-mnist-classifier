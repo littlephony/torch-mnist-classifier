{
 "cells": [
  {
   "attachments": {},
   "cell_type": "markdown",
   "metadata": {},
   "source": [
    "# PyTorch MNIST Classifier\n",
    "\n",
    "In this notebook I will implement a deep convolutional neural network to classify handwritten digits from the MNIST dataset."
   ]
  },
  {
   "attachments": {},
   "cell_type": "markdown",
   "metadata": {},
   "source": [
    "Import all the necessary packages:"
   ]
  },
  {
   "cell_type": "code",
   "execution_count": 19,
   "metadata": {},
   "outputs": [],
   "source": [
    "import torch\n",
    "import torchvision\n",
    "from torchvision import transforms\n",
    "from torch.utils.data import DataLoader, Subset\n",
    "from torch import nn\n",
    "import numpy as np\n",
    "import matplotlib.pyplot as plt"
   ]
  },
  {
   "cell_type": "code",
   "execution_count": 20,
   "metadata": {},
   "outputs": [
    {
     "data": {
      "text/plain": [
       "device(type='cuda')"
      ]
     },
     "execution_count": 20,
     "metadata": {},
     "output_type": "execute_result"
    }
   ],
   "source": [
    "device = torch.device(\n",
    "    'cuda' \n",
    "    if torch.cuda.is_available() \n",
    "    else 'cpu'\n",
    ")\n",
    "device"
   ]
  },
  {
   "attachments": {},
   "cell_type": "markdown",
   "metadata": {},
   "source": [
    "Define image processing pipelines:"
   ]
  },
  {
   "cell_type": "code",
   "execution_count": 21,
   "metadata": {},
   "outputs": [],
   "source": [
    "transform = transforms.Compose([\n",
    "    transforms.ToTensor(),\n",
    "    transforms.Normalize(\n",
    "        mean=(0.1307,),\n",
    "        std=(0.3081)\n",
    "    )\n",
    "])"
   ]
  },
  {
   "attachments": {},
   "cell_type": "markdown",
   "metadata": {},
   "source": [
    "Download the dataset:"
   ]
  },
  {
   "cell_type": "code",
   "execution_count": 22,
   "metadata": {},
   "outputs": [],
   "source": [
    "image_path = './'\n",
    "\n",
    "mnist_dataset = torchvision.datasets.MNIST(\n",
    "    root=image_path,\n",
    "    train=True,\n",
    "    download=False,\n",
    "    transform=transform\n",
    ")"
   ]
  },
  {
   "attachments": {},
   "cell_type": "markdown",
   "metadata": {},
   "source": [
    "Split training data and download test data:"
   ]
  },
  {
   "cell_type": "code",
   "execution_count": 23,
   "metadata": {},
   "outputs": [],
   "source": [
    "mnist_valid_dataset = Subset(\n",
    "    mnist_dataset,\n",
    "    torch.arange(10_000)\n",
    ")\n",
    "\n",
    "mnist_train_dataset = Subset(\n",
    "    mnist_dataset,\n",
    "    torch.arange(\n",
    "        10_000, len(mnist_dataset) \n",
    "    )\n",
    ")\n",
    "\n",
    "mnist_test_dataset = torchvision.datasets.MNIST(\n",
    "    root=image_path,\n",
    "    train=False,\n",
    "    download=False,\n",
    "    transform=transform\n",
    ")"
   ]
  },
  {
   "attachments": {},
   "cell_type": "markdown",
   "metadata": {},
   "source": [
    "Set up data loaders:"
   ]
  },
  {
   "cell_type": "code",
   "execution_count": 24,
   "metadata": {},
   "outputs": [],
   "source": [
    "batch_size = 64\n",
    "torch.manual_seed(1)\n",
    "\n",
    "train_loader = DataLoader(\n",
    "    mnist_train_dataset,\n",
    "    batch_size,\n",
    "    shuffle=True\n",
    ")\n",
    "\n",
    "valid_loader = DataLoader(\n",
    "    mnist_valid_dataset,\n",
    "    batch_size,\n",
    "    shuffle=False\n",
    ")\n",
    "\n",
    "test_loader = DataLoader(\n",
    "    mnist_test_dataset,\n",
    "    batch_size,\n",
    "    shuffle=False\n",
    ")"
   ]
  },
  {
   "cell_type": "code",
   "execution_count": 25,
   "metadata": {},
   "outputs": [],
   "source": [
    "class Net(nn.Module):\n",
    "    def __init__(self, device):\n",
    "        super().__init__()\n",
    "\n",
    "        self.classifier = nn.Sequential(\n",
    "            nn.Conv2d(\n",
    "                in_channels=1, out_channels=32,\n",
    "                kernel_size=5, padding=2\n",
    "            ),\n",
    "            nn.ReLU(),\n",
    "            nn.MaxPool2d(kernel_size=2),\n",
    "            nn.Conv2d(\n",
    "                in_channels=32, out_channels=64,\n",
    "                kernel_size=5, padding=2\n",
    "            ),\n",
    "            nn.ReLU(),\n",
    "            nn.MaxPool2d(kernel_size=2),\n",
    "            nn.Flatten(),\n",
    "            nn.Linear(3136, 1024),\n",
    "            nn.ReLU(),\n",
    "            nn.Dropout(p=0.5),\n",
    "            nn.Linear(1024, 10)\n",
    "        ).to(device)\n",
    "\n",
    "    def forward(self, x):\n",
    "        return self.classifier(x)"
   ]
  },
  {
   "cell_type": "code",
   "execution_count": 26,
   "metadata": {},
   "outputs": [
    {
     "data": {
      "text/plain": [
       "Net(\n",
       "  (classifier): Sequential(\n",
       "    (0): Conv2d(1, 32, kernel_size=(5, 5), stride=(1, 1), padding=(2, 2))\n",
       "    (1): ReLU()\n",
       "    (2): MaxPool2d(kernel_size=2, stride=2, padding=0, dilation=1, ceil_mode=False)\n",
       "    (3): Conv2d(32, 64, kernel_size=(5, 5), stride=(1, 1), padding=(2, 2))\n",
       "    (4): ReLU()\n",
       "    (5): MaxPool2d(kernel_size=2, stride=2, padding=0, dilation=1, ceil_mode=False)\n",
       "    (6): Flatten(start_dim=1, end_dim=-1)\n",
       "    (7): Linear(in_features=3136, out_features=1024, bias=True)\n",
       "    (8): ReLU()\n",
       "    (9): Dropout(p=0.5, inplace=False)\n",
       "    (10): Linear(in_features=1024, out_features=10, bias=True)\n",
       "  )\n",
       ")"
      ]
     },
     "execution_count": 26,
     "metadata": {},
     "output_type": "execute_result"
    }
   ],
   "source": [
    "mnist_net = Net(device)\n",
    "mnist_net"
   ]
  },
  {
   "cell_type": "code",
   "execution_count": 27,
   "metadata": {},
   "outputs": [],
   "source": [
    "loss_fn = nn.CrossEntropyLoss()\n",
    "optimizer = torch.optim.Adam(mnist_net.parameters(), lr=1e-3)"
   ]
  },
  {
   "cell_type": "code",
   "execution_count": 28,
   "metadata": {},
   "outputs": [],
   "source": [
    "def train(model, n_epochs, train_loader, valid_loader, device):\n",
    "    loss_history_train = [0] * n_epochs\n",
    "    loss_history_valid = [0] * n_epochs\n",
    "    accuracy_history_train = [0] * n_epochs\n",
    "    accuracy_history_valid = [0] * n_epochs\n",
    "\n",
    "    for epoch in range(n_epochs):\n",
    "        model.train()\n",
    "\n",
    "        for x_batch, y_batch in train_loader:\n",
    "            x_batch = x_batch.to(device)\n",
    "            y_batch = y_batch.to(device)\n",
    "\n",
    "            optimizer.zero_grad()\n",
    "            prediction = model(x_batch)\n",
    "            loss_value = loss_fn(prediction, y_batch)\n",
    "            loss_value.backward()\n",
    "            optimizer.step()\n",
    "\n",
    "            loss_history_train[epoch] += loss_value.item() * y_batch.size(0)\n",
    "\n",
    "            is_correct = (\n",
    "                torch.argmax(prediction, dim=1) == y_batch\n",
    "            ).float().cpu()\n",
    "\n",
    "            accuracy_history_train[epoch] += is_correct.sum()\n",
    "        \n",
    "        loss_history_train[epoch] /= len(train_loader.dataset)\n",
    "        accuracy_history_train[epoch] /= len(train_loader.dataset)\n",
    "\n",
    "        model.eval()\n",
    "\n",
    "        with torch.no_grad():\n",
    "            for x_batch, y_batch in valid_loader:\n",
    "                x_batch = x_batch.to(device)\n",
    "                y_batch = y_batch.to(device)\n",
    "\n",
    "                prediction = model(x_batch)\n",
    "                loss_value = loss_fn(prediction, y_batch)\n",
    "\n",
    "                loss_history_valid[epoch] += loss_value.item() * y_batch.size(0)\n",
    "\n",
    "                is_correct = (\n",
    "                    torch.argmax(prediction, dim=1) == y_batch\n",
    "                ).float().cpu()\n",
    "\n",
    "                accuracy_history_valid[epoch] += is_correct.sum()\n",
    "        loss_history_valid[epoch] /= len(valid_loader.dataset)\n",
    "        accuracy_history_valid[epoch] /= len(valid_loader.dataset)\n",
    "\n",
    "        print(\n",
    "            f'Epoch {epoch + 1} '\n",
    "            f'train accuracy: {accuracy_history_train[epoch]:.4f} '\n",
    "            f'validation accuracy: {accuracy_history_valid[epoch]:.4f}'\n",
    "        )\n",
    "\n",
    "    return loss_history_train, loss_history_valid,\\\n",
    "           accuracy_history_train, accuracy_history_valid "
   ]
  },
  {
   "cell_type": "code",
   "execution_count": 29,
   "metadata": {},
   "outputs": [
    {
     "name": "stdout",
     "output_type": "stream",
     "text": [
      "Epoch 1 train accuracy: 0.9563 validation accuracy: 0.9802\n",
      "Epoch 2 train accuracy: 0.9846 validation accuracy: 0.9866\n",
      "Epoch 3 train accuracy: 0.9887 validation accuracy: 0.9846\n",
      "Epoch 4 train accuracy: 0.9912 validation accuracy: 0.9876\n",
      "Epoch 5 train accuracy: 0.9926 validation accuracy: 0.9904\n",
      "Epoch 6 train accuracy: 0.9935 validation accuracy: 0.9867\n",
      "Epoch 7 train accuracy: 0.9949 validation accuracy: 0.9886\n",
      "Epoch 8 train accuracy: 0.9955 validation accuracy: 0.9901\n",
      "Epoch 9 train accuracy: 0.9953 validation accuracy: 0.9888\n",
      "Epoch 10 train accuracy: 0.9960 validation accuracy: 0.9892\n",
      "Epoch 11 train accuracy: 0.9967 validation accuracy: 0.9898\n",
      "Epoch 12 train accuracy: 0.9965 validation accuracy: 0.9894\n",
      "Epoch 13 train accuracy: 0.9974 validation accuracy: 0.9897\n",
      "Epoch 14 train accuracy: 0.9968 validation accuracy: 0.9886\n",
      "Epoch 15 train accuracy: 0.9977 validation accuracy: 0.9893\n",
      "Epoch 16 train accuracy: 0.9974 validation accuracy: 0.9910\n",
      "Epoch 17 train accuracy: 0.9966 validation accuracy: 0.9896\n",
      "Epoch 18 train accuracy: 0.9974 validation accuracy: 0.9890\n",
      "Epoch 19 train accuracy: 0.9974 validation accuracy: 0.9909\n",
      "Epoch 20 train accuracy: 0.9977 validation accuracy: 0.9896\n"
     ]
    }
   ],
   "source": [
    "n_epochs = 20\n",
    "hist = train(\n",
    "    mnist_net, n_epochs, train_loader,\n",
    "    valid_loader, device\n",
    ")"
   ]
  },
  {
   "cell_type": "code",
   "execution_count": 30,
   "metadata": {},
   "outputs": [
    {
     "data": {
      "image/png": "[encoded data removed]",
      "text/plain": [
       "<Figure size 1200x400 with 2 Axes>"
      ]
     },
     "metadata": {},
     "output_type": "display_data"
    }
   ],
   "source": [
    "x_arr = np.arange(len(hist[0])) + 1\n",
    "fig = plt.figure(figsize=(12, 4))\n",
    "ax = fig.add_subplot(1, 2, 1)\n",
    "ax.plot(x_arr, hist[0], label='Train loss')\n",
    "ax.plot(x_arr, hist[1], label='Validation loss')\n",
    "ax.legend()\n",
    "ax.set_xlabel('Epoch')\n",
    "ax.set_ylabel('Loss')\n",
    "ax = fig.add_subplot(1, 2, 2)\n",
    "ax.plot(x_arr, hist[2], label='Train accuracy')\n",
    "ax.plot(x_arr, hist[3], label='Validation accuracy')\n",
    "ax.legend()\n",
    "ax.set_xlabel('Epoch')\n",
    "ax.set_ylabel('Accuracy')\n",
    "plt.show()"
   ]
  },
  {
   "cell_type": "code",
   "execution_count": 31,
   "metadata": {},
   "outputs": [
    {
     "name": "stdout",
     "output_type": "stream",
     "text": [
      "Test accuracy: 0.9920\n"
     ]
    }
   ],
   "source": [
    "test_accuracy = 0\n",
    "\n",
    "for x_batch, y_batch in test_loader:\n",
    "    x_batch = x_batch.to(device)\n",
    "    y_batch = y_batch.to(device)\n",
    "\n",
    "    prediction = mnist_net(x_batch)\n",
    "\n",
    "    is_correct = (\n",
    "        torch.argmax(prediction, dim=1) == y_batch\n",
    "    ).float().cpu()\n",
    "\n",
    "    test_accuracy += is_correct.sum()\n",
    "\n",
    "test_accuracy /= len(test_loader.dataset)\n",
    "print(f'Test accuracy: {test_accuracy:.4f}')"
   ]
  }
 ],
 "metadata": {
  "kernelspec": {
   "display_name": "deep-learning-env",
   "language": "python",
   "name": "python3"
  },
  "language_info": {
   "codemirror_mode": {
    "name": "ipython",
    "version": 3
   },
   "file_extension": ".py",
   "mimetype": "text/x-python",
   "name": "python",
   "nbconvert_exporter": "python",
   "pygments_lexer": "ipython3",
   "version": "3.10.9"
  },
  "orig_nbformat": 4
 },
 "nbformat": 4,
 "nbformat_minor": 2
}
