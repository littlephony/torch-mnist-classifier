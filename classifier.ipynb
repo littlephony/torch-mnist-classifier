{
 "cells": [
  {
   "attachments": {},
   "cell_type": "markdown",
   "metadata": {},
   "source": [
    "# PyTorch MNIST Classifier\n",
    "\n",
    "In this notebook I will implement a deep convolutional neural network to classify handwritten digits from the MNIST dataset."
   ]
  },
  {
   "attachments": {},
   "cell_type": "markdown",
   "metadata": {},
   "source": [
    "Import all the necessary packages:"
   ]
  },
  {
   "cell_type": "code",
   "execution_count": 16,
   "metadata": {},
   "outputs": [],
   "source": [
    "import torch\n",
    "import torchvision\n",
    "from torch.utils.data import DataLoader, Subset\n",
    "from torch import nn\n",
    "import numpy as np\n",
    "import matplotlib.pyplot as plt"
   ]
  },
  {
   "attachments": {},
   "cell_type": "markdown",
   "metadata": {},
   "source": [
    "Define the validation, train, and test subsets:"
   ]
  },
  {
   "cell_type": "code",
   "execution_count": 17,
   "metadata": {},
   "outputs": [],
   "source": [
    "image_path = './'\n",
    "transform = torchvision.transforms.Compose([\n",
    "    torchvision.transforms.ToTensor()\n",
    "])\n",
    "\n",
    "mnist_dataset = torchvision.datasets.MNIST(\n",
    "    root=image_path,\n",
    "    train=True,\n",
    "    transform=transform,\n",
    "    download=False\n",
    ")\n",
    "\n",
    "mnist_valid_dataset = Subset(\n",
    "    mnist_dataset,\n",
    "    torch.arange(10_000)\n",
    ")\n",
    "\n",
    "mnist_train_dataset = Subset(\n",
    "    mnist_dataset,\n",
    "    torch.arange(\n",
    "        10_000, len(mnist_dataset) \n",
    "    )\n",
    ")\n",
    "\n",
    "mnist_test_dataset = torchvision.datasets.MNIST(\n",
    "    root=image_path,\n",
    "    train=False,\n",
    "    transform=transform,\n",
    "    download=False\n",
    ")"
   ]
  },
  {
   "attachments": {},
   "cell_type": "markdown",
   "metadata": {},
   "source": [
    "Set up data loaders:"
   ]
  },
  {
   "cell_type": "code",
   "execution_count": 18,
   "metadata": {},
   "outputs": [],
   "source": [
    "batch_size = 64\n",
    "torch.manual_seed(1)\n",
    "\n",
    "train_dl = DataLoader(\n",
    "    mnist_train_dataset,\n",
    "    batch_size,\n",
    "    shuffle=True\n",
    ")\n",
    "\n",
    "valid_dl = DataLoader(\n",
    "    mnist_valid_dataset,\n",
    "    batch_size,\n",
    "    shuffle=False\n",
    ")"
   ]
  },
  {
   "cell_type": "code",
   "execution_count": 19,
   "metadata": {},
   "outputs": [],
   "source": [
    "class DeepConvNet(nn.Module):\n",
    "    def __init__(self):\n",
    "        super().__init__()\n",
    "        self.model = nn.Sequential()\n",
    "        self.model.add_module(\n",
    "            'conv1',\n",
    "            nn.Conv2d(\n",
    "                in_channels=1, out_channels=32,\n",
    "                kernel_size=5, padding=2\n",
    "            )\n",
    "        )\n",
    "        self.model.add_module('relu1', nn.ReLU())\n",
    "        self.model.add_module('pool1', nn.MaxPool2d(kernel_size=2))\n",
    "        self.model.add_module(\n",
    "            'conv2',\n",
    "            nn.Conv2d(\n",
    "                in_channels=32, out_channels=64,\n",
    "                kernel_size=5, padding=2\n",
    "            )\n",
    "        )\n",
    "        self.model.add_module('relu2', nn.ReLU())\n",
    "        self.model.add_module('pool2', nn.MaxPool2d(kernel_size=2))\n",
    "        self.model.add_module('flatten', nn.Flatten())\n",
    "        self.model.add_module('fc1', nn.Linear(3136, 1024))\n",
    "        self.model.add_module('relu3', nn.ReLU())\n",
    "        self.model.add_module('dropout', nn.Dropout(p=0.5))\n",
    "        self.model.add_module('fc2', nn.Linear(1024, 10))\n",
    "\n",
    "    def forward(self, x):\n",
    "        return self.model(x)"
   ]
  },
  {
   "cell_type": "code",
   "execution_count": 20,
   "metadata": {},
   "outputs": [],
   "source": [
    "my_net = DeepConvNet()"
   ]
  },
  {
   "cell_type": "code",
   "execution_count": 21,
   "metadata": {},
   "outputs": [],
   "source": [
    "loss_fn = nn.CrossEntropyLoss()\n",
    "optimizer = torch.optim.Adam(my_net.parameters(), lr=1e-3)"
   ]
  },
  {
   "cell_type": "code",
   "execution_count": null,
   "metadata": {},
   "outputs": [],
   "source": [
    "def train(model, n_epochs, train_dl, valid_dl):\n",
    "    loss_history_train = [0] * n_epochs\n",
    "    loss_history_valid = [0] * n_epochs\n",
    "    accuracy_history_train = [0] * n_epochs\n",
    "    accuracy_history_valid = [0] * n_epochs\n",
    "\n",
    "    for epoch in range(n_epochs):\n",
    "        model.train()\n",
    "\n",
    "        for x_batch, y_batch in train_dl:\n",
    "            optimizer.zero_grad()\n",
    "            prediction = model(x_batch)\n",
    "            loss_value = loss_fn(prediction, y_batch)\n",
    "            loss_value.backward()\n",
    "            optimizer.step()\n",
    "\n",
    "            is_correct = (\n",
    "                torch.argmax(prediction, dim=1) == y_batch()\n",
    "            ).float()\n",
    "\n",
    "            accuracy_history_train[epoch] += is_correct().sum()\n",
    "        \n",
    "        loss_history_train[epoch] /= len(train_dl.dataset)\n",
    "        accuracy_history_train[epoch] /= len(train_dl.dataset)\n",
    "\n",
    "        model.eval()\n",
    "\n",
    "        with torch.no_grad():\n",
    "            for x_batch, y_batch in valid_dl:\n",
    "                prediction = model(x_batch)\n",
    "                loss_value = loss_fn(prediction, y_batch)\n",
    "\n",
    "                loss_history_valid[epoch] += loss_value.item() * y_batch.size(0)\n",
    "\n",
    "                is_correct = (\n",
    "                    torch.argmax(prediction, dim=1) == y_batch\n",
    "                ).float()\n",
    "                accuracy_history_valid[epoch] += is_correct.sum()\n",
    "        loss_history_valid[epoch] /= len(valid_dl.dataset)\n",
    "        accuracy_history_valid[epoch] /= len(valid_dl.dataset)\n",
    "\n",
    "    return loss_history_train, loss_history_valid,\\\n",
    "           accuracy_history_train, accuracy_history_valid "
   ]
  }
 ],
 "metadata": {
  "kernelspec": {
   "display_name": "deep-learning-env",
   "language": "python",
   "name": "python3"
  },
  "language_info": {
   "codemirror_mode": {
    "name": "ipython",
    "version": 3
   },
   "file_extension": ".py",
   "mimetype": "text/x-python",
   "name": "python",
   "nbconvert_exporter": "python",
   "pygments_lexer": "ipython3",
   "version": "3.10.9"
  },
  "orig_nbformat": 4
 },
 "nbformat": 4,
 "nbformat_minor": 2
}
